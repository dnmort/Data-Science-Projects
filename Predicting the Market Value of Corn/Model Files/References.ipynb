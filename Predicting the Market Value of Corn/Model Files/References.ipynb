{
 "cells": [
  {
   "cell_type": "markdown",
   "id": "ff4eeb37-f878-442d-8a5c-890473a94aee",
   "metadata": {},
   "source": [
    "# References "
   ]
  },
  {
   "cell_type": "markdown",
   "id": "a6d60f3a-0ba5-4cd7-a31d-34b6b7f085f1",
   "metadata": {},
   "source": [
    "1. Corn data was taken from: https://quickstats.nass.usda.gov/\n",
    "2. Climate data was taken from: https://www.ncdc.noaa.gov/cag/national/time-series\n",
    "3. US Population data was taken from: https://www.multpl.com/united-states-population/table/by-year  \n",
    "\n",
    "- Much of the code in this project is borrowed and adapted from other sources, especially from the proprietary lesson material provided by BrainStation. To the best of my knowledge, all material has been used in a copyright appropriate manner.  \n",
    "\n",
    "- I would like to thank all of my BrainStation instructors for their support on this project. I would also like to thank my wife and children for their patience as I've taught myself a little data science.\n"
   ]
  }
 ],
 "metadata": {
  "kernelspec": {
   "display_name": "Python 3",
   "language": "python",
   "name": "python3"
  },
  "language_info": {
   "codemirror_mode": {
    "name": "ipython",
    "version": 3
   },
   "file_extension": ".py",
   "mimetype": "text/x-python",
   "name": "python",
   "nbconvert_exporter": "python",
   "pygments_lexer": "ipython3",
   "version": "3.8.8"
  }
 },
 "nbformat": 4,
 "nbformat_minor": 5
}
