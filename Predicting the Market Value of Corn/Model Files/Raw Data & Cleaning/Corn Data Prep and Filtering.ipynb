{
 "cells": [
  {
   "cell_type": "markdown",
   "id": "e5d21be2-b0c8-4964-be7a-b6ce50d9dcec",
   "metadata": {},
   "source": [
    "# Corn Data Cleaning Notebook"
   ]
  },
  {
   "cell_type": "markdown",
   "id": "b97c6722-f7d7-447c-8a57-8e289666fecc",
   "metadata": {},
   "source": [
    "Data for Grain Corn for the years 1950 to 2020 was downloaded from https://quickstats.nass.usda.gov/. This website restricts data downloads to 5,000 rows of data at a time. Thus, I was required to download data for one year at a time. This resulted in over 70 csv files being downloaded. These csv files are stored in the `Corn Data` folder. I will import them them all in this notebook, clean the data, combine it all into a single data frame and export it as a csv for further analysis."
   ]
  },
  {
   "cell_type": "code",
   "execution_count": 1,
   "id": "6b623877-81cc-4d90-97b9-611400e7f4dc",
   "metadata": {},
   "outputs": [],
   "source": [
    "# Import tools \n",
    "import pandas as pd\n",
    "import numpy as np\n",
    "import os"
   ]
  },
  {
   "cell_type": "markdown",
   "id": "2460e4aa-6244-4c62-9602-4c0020eff00e",
   "metadata": {},
   "source": [
    "I will now import all of the data as individual dataframes. I will store these data frames in a list and combine them later."
   ]
  },
  {
   "cell_type": "code",
   "execution_count": 2,
   "id": "c638f0b2-cc8f-4dbc-b84a-ca108b41aa6b",
   "metadata": {},
   "outputs": [
    {
     "name": "stderr",
     "output_type": "stream",
     "text": [
      "C:\\Users\\Daniel\\anaconda3\\lib\\site-packages\\IPython\\core\\interactiveshell.py:3165: DtypeWarning: Columns (3) have mixed types.Specify dtype option on import or set low_memory=False.\n",
      "  has_raised = await self.run_ast_nodes(code_ast.body, cell_name,\n",
      "C:\\Users\\Daniel\\anaconda3\\lib\\site-packages\\IPython\\core\\interactiveshell.py:3165: DtypeWarning: Columns (19) have mixed types.Specify dtype option on import or set low_memory=False.\n",
      "  has_raised = await self.run_ast_nodes(code_ast.body, cell_name,\n",
      "C:\\Users\\Daniel\\anaconda3\\lib\\site-packages\\IPython\\core\\interactiveshell.py:3165: DtypeWarning: Columns (7,9,12,19,20) have mixed types.Specify dtype option on import or set low_memory=False.\n",
      "  has_raised = await self.run_ast_nodes(code_ast.body, cell_name,\n",
      "C:\\Users\\Daniel\\anaconda3\\lib\\site-packages\\IPython\\core\\interactiveshell.py:3165: DtypeWarning: Columns (19,20) have mixed types.Specify dtype option on import or set low_memory=False.\n",
      "  has_raised = await self.run_ast_nodes(code_ast.body, cell_name,\n",
      "C:\\Users\\Daniel\\anaconda3\\lib\\site-packages\\IPython\\core\\interactiveshell.py:3165: DtypeWarning: Columns (7,9,12,14,19,20) have mixed types.Specify dtype option on import or set low_memory=False.\n",
      "  has_raised = await self.run_ast_nodes(code_ast.body, cell_name,\n"
     ]
    },
    {
     "data": {
      "text/html": [
       "<div>\n",
       "<style scoped>\n",
       "    .dataframe tbody tr th:only-of-type {\n",
       "        vertical-align: middle;\n",
       "    }\n",
       "\n",
       "    .dataframe tbody tr th {\n",
       "        vertical-align: top;\n",
       "    }\n",
       "\n",
       "    .dataframe thead th {\n",
       "        text-align: right;\n",
       "    }\n",
       "</style>\n",
       "<table border=\"1\" class=\"dataframe\">\n",
       "  <thead>\n",
       "    <tr style=\"text-align: right;\">\n",
       "      <th></th>\n",
       "      <th>Program</th>\n",
       "      <th>Year</th>\n",
       "      <th>Period</th>\n",
       "      <th>Week Ending</th>\n",
       "      <th>Geo Level</th>\n",
       "      <th>State</th>\n",
       "      <th>State ANSI</th>\n",
       "      <th>Ag District</th>\n",
       "      <th>Ag District Code</th>\n",
       "      <th>County</th>\n",
       "      <th>...</th>\n",
       "      <th>Zip Code</th>\n",
       "      <th>Region</th>\n",
       "      <th>watershed_code</th>\n",
       "      <th>Watershed</th>\n",
       "      <th>Commodity</th>\n",
       "      <th>Data Item</th>\n",
       "      <th>Domain</th>\n",
       "      <th>Domain Category</th>\n",
       "      <th>Value</th>\n",
       "      <th>CV (%)</th>\n",
       "    </tr>\n",
       "  </thead>\n",
       "  <tbody>\n",
       "    <tr>\n",
       "      <th>0</th>\n",
       "      <td>SURVEY</td>\n",
       "      <td>2000</td>\n",
       "      <td>MARKETING YEAR</td>\n",
       "      <td>NaN</td>\n",
       "      <td>NATIONAL</td>\n",
       "      <td>US TOTAL</td>\n",
       "      <td>NaN</td>\n",
       "      <td>NaN</td>\n",
       "      <td>NaN</td>\n",
       "      <td>NaN</td>\n",
       "      <td>...</td>\n",
       "      <td>NaN</td>\n",
       "      <td>NaN</td>\n",
       "      <td>0</td>\n",
       "      <td>NaN</td>\n",
       "      <td>CORN</td>\n",
       "      <td>CORN, GRAIN - PRICE RECEIVED, MEASURED IN $ / BU</td>\n",
       "      <td>TOTAL</td>\n",
       "      <td>NOT SPECIFIED</td>\n",
       "      <td>1.85</td>\n",
       "      <td>NaN</td>\n",
       "    </tr>\n",
       "    <tr>\n",
       "      <th>1</th>\n",
       "      <td>SURVEY</td>\n",
       "      <td>2000</td>\n",
       "      <td>MARKETING YEAR</td>\n",
       "      <td>NaN</td>\n",
       "      <td>STATE</td>\n",
       "      <td>ALABAMA</td>\n",
       "      <td>1.0</td>\n",
       "      <td>NaN</td>\n",
       "      <td>NaN</td>\n",
       "      <td>NaN</td>\n",
       "      <td>...</td>\n",
       "      <td>NaN</td>\n",
       "      <td>NaN</td>\n",
       "      <td>0</td>\n",
       "      <td>NaN</td>\n",
       "      <td>CORN</td>\n",
       "      <td>CORN, GRAIN - PRICE RECEIVED, MEASURED IN $ / BU</td>\n",
       "      <td>TOTAL</td>\n",
       "      <td>NOT SPECIFIED</td>\n",
       "      <td>2.16</td>\n",
       "      <td>NaN</td>\n",
       "    </tr>\n",
       "    <tr>\n",
       "      <th>2</th>\n",
       "      <td>SURVEY</td>\n",
       "      <td>2000</td>\n",
       "      <td>MARKETING YEAR</td>\n",
       "      <td>NaN</td>\n",
       "      <td>STATE</td>\n",
       "      <td>ARIZONA</td>\n",
       "      <td>4.0</td>\n",
       "      <td>NaN</td>\n",
       "      <td>NaN</td>\n",
       "      <td>NaN</td>\n",
       "      <td>...</td>\n",
       "      <td>NaN</td>\n",
       "      <td>NaN</td>\n",
       "      <td>0</td>\n",
       "      <td>NaN</td>\n",
       "      <td>CORN</td>\n",
       "      <td>CORN, GRAIN - PRICE RECEIVED, MEASURED IN $ / BU</td>\n",
       "      <td>TOTAL</td>\n",
       "      <td>NOT SPECIFIED</td>\n",
       "      <td>2.78</td>\n",
       "      <td>NaN</td>\n",
       "    </tr>\n",
       "    <tr>\n",
       "      <th>3</th>\n",
       "      <td>SURVEY</td>\n",
       "      <td>2000</td>\n",
       "      <td>MARKETING YEAR</td>\n",
       "      <td>NaN</td>\n",
       "      <td>STATE</td>\n",
       "      <td>ARKANSAS</td>\n",
       "      <td>5.0</td>\n",
       "      <td>NaN</td>\n",
       "      <td>NaN</td>\n",
       "      <td>NaN</td>\n",
       "      <td>...</td>\n",
       "      <td>NaN</td>\n",
       "      <td>NaN</td>\n",
       "      <td>0</td>\n",
       "      <td>NaN</td>\n",
       "      <td>CORN</td>\n",
       "      <td>CORN, GRAIN - PRICE RECEIVED, MEASURED IN $ / BU</td>\n",
       "      <td>TOTAL</td>\n",
       "      <td>NOT SPECIFIED</td>\n",
       "      <td>1.75</td>\n",
       "      <td>NaN</td>\n",
       "    </tr>\n",
       "    <tr>\n",
       "      <th>4</th>\n",
       "      <td>SURVEY</td>\n",
       "      <td>2000</td>\n",
       "      <td>MARKETING YEAR</td>\n",
       "      <td>NaN</td>\n",
       "      <td>STATE</td>\n",
       "      <td>CALIFORNIA</td>\n",
       "      <td>6.0</td>\n",
       "      <td>NaN</td>\n",
       "      <td>NaN</td>\n",
       "      <td>NaN</td>\n",
       "      <td>...</td>\n",
       "      <td>NaN</td>\n",
       "      <td>NaN</td>\n",
       "      <td>0</td>\n",
       "      <td>NaN</td>\n",
       "      <td>CORN</td>\n",
       "      <td>CORN, GRAIN - PRICE RECEIVED, MEASURED IN $ / BU</td>\n",
       "      <td>TOTAL</td>\n",
       "      <td>NOT SPECIFIED</td>\n",
       "      <td>2.44</td>\n",
       "      <td>NaN</td>\n",
       "    </tr>\n",
       "  </tbody>\n",
       "</table>\n",
       "<p>5 rows × 21 columns</p>\n",
       "</div>"
      ],
      "text/plain": [
       "  Program  Year          Period Week Ending Geo Level       State  State ANSI  \\\n",
       "0  SURVEY  2000  MARKETING YEAR         NaN  NATIONAL    US TOTAL         NaN   \n",
       "1  SURVEY  2000  MARKETING YEAR         NaN     STATE     ALABAMA         1.0   \n",
       "2  SURVEY  2000  MARKETING YEAR         NaN     STATE     ARIZONA         4.0   \n",
       "3  SURVEY  2000  MARKETING YEAR         NaN     STATE    ARKANSAS         5.0   \n",
       "4  SURVEY  2000  MARKETING YEAR         NaN     STATE  CALIFORNIA         6.0   \n",
       "\n",
       "  Ag District  Ag District Code County  ...  Zip Code  Region  watershed_code  \\\n",
       "0         NaN               NaN    NaN  ...       NaN     NaN               0   \n",
       "1         NaN               NaN    NaN  ...       NaN     NaN               0   \n",
       "2         NaN               NaN    NaN  ...       NaN     NaN               0   \n",
       "3         NaN               NaN    NaN  ...       NaN     NaN               0   \n",
       "4         NaN               NaN    NaN  ...       NaN     NaN               0   \n",
       "\n",
       "   Watershed  Commodity                                         Data Item  \\\n",
       "0        NaN       CORN  CORN, GRAIN - PRICE RECEIVED, MEASURED IN $ / BU   \n",
       "1        NaN       CORN  CORN, GRAIN - PRICE RECEIVED, MEASURED IN $ / BU   \n",
       "2        NaN       CORN  CORN, GRAIN - PRICE RECEIVED, MEASURED IN $ / BU   \n",
       "3        NaN       CORN  CORN, GRAIN - PRICE RECEIVED, MEASURED IN $ / BU   \n",
       "4        NaN       CORN  CORN, GRAIN - PRICE RECEIVED, MEASURED IN $ / BU   \n",
       "\n",
       "  Domain Domain Category Value CV (%)  \n",
       "0  TOTAL   NOT SPECIFIED  1.85    NaN  \n",
       "1  TOTAL   NOT SPECIFIED  2.16    NaN  \n",
       "2  TOTAL   NOT SPECIFIED  2.78    NaN  \n",
       "3  TOTAL   NOT SPECIFIED  1.75    NaN  \n",
       "4  TOTAL   NOT SPECIFIED  2.44    NaN  \n",
       "\n",
       "[5 rows x 21 columns]"
      ]
     },
     "metadata": {},
     "output_type": "display_data"
    }
   ],
   "source": [
    "# I will need a list for storing the individual data frames made from the csv files\n",
    "corn_list = []\n",
    "\n",
    "# read through all files in the Corn Data folder and add to corn_list\n",
    "for filename in os.listdir(\"./Corn Data\"):\n",
    "    \n",
    "    # import data from each file as a data frame\n",
    "    file_data = pd.read_csv(f\"./Corn Data/{filename}\")\n",
    "    \n",
    "    # add the data frames to the list\n",
    "    corn_list.append(file_data)  \n",
    "\n",
    "# confirm that the data frames were created successfully. \n",
    "# Since this is a simple procedure, I will only check that one was created successfully.\n",
    "display(corn_list[50].head())"
   ]
  },
  {
   "cell_type": "markdown",
   "id": "deb1e7d1-0497-4b76-bfc9-1f663464007c",
   "metadata": {},
   "source": [
    "The csv files were read in successfully. I will now merge them, or concatenate them, into a single data frame."
   ]
  },
  {
   "cell_type": "code",
   "execution_count": 3,
   "id": "7b31065c-a058-4063-842e-22d089b0f2ab",
   "metadata": {},
   "outputs": [
    {
     "data": {
      "text/html": [
       "<div>\n",
       "<style scoped>\n",
       "    .dataframe tbody tr th:only-of-type {\n",
       "        vertical-align: middle;\n",
       "    }\n",
       "\n",
       "    .dataframe tbody tr th {\n",
       "        vertical-align: top;\n",
       "    }\n",
       "\n",
       "    .dataframe thead th {\n",
       "        text-align: right;\n",
       "    }\n",
       "</style>\n",
       "<table border=\"1\" class=\"dataframe\">\n",
       "  <thead>\n",
       "    <tr style=\"text-align: right;\">\n",
       "      <th></th>\n",
       "      <th>Program</th>\n",
       "      <th>Year</th>\n",
       "      <th>Period</th>\n",
       "      <th>Week Ending</th>\n",
       "      <th>Geo Level</th>\n",
       "      <th>State</th>\n",
       "      <th>State ANSI</th>\n",
       "      <th>Ag District</th>\n",
       "      <th>Ag District Code</th>\n",
       "      <th>County</th>\n",
       "      <th>...</th>\n",
       "      <th>Zip Code</th>\n",
       "      <th>Region</th>\n",
       "      <th>watershed_code</th>\n",
       "      <th>Watershed</th>\n",
       "      <th>Commodity</th>\n",
       "      <th>Data Item</th>\n",
       "      <th>Domain</th>\n",
       "      <th>Domain Category</th>\n",
       "      <th>Value</th>\n",
       "      <th>CV (%)</th>\n",
       "    </tr>\n",
       "  </thead>\n",
       "  <tbody>\n",
       "    <tr>\n",
       "      <th>0</th>\n",
       "      <td>SURVEY</td>\n",
       "      <td>1950</td>\n",
       "      <td>MARKETING YEAR</td>\n",
       "      <td>NaN</td>\n",
       "      <td>NATIONAL</td>\n",
       "      <td>US TOTAL</td>\n",
       "      <td>NaN</td>\n",
       "      <td>NaN</td>\n",
       "      <td>NaN</td>\n",
       "      <td>NaN</td>\n",
       "      <td>...</td>\n",
       "      <td>NaN</td>\n",
       "      <td>NaN</td>\n",
       "      <td>0</td>\n",
       "      <td>NaN</td>\n",
       "      <td>CORN</td>\n",
       "      <td>CORN, GRAIN - PRICE RECEIVED, MEASURED IN $ / BU</td>\n",
       "      <td>TOTAL</td>\n",
       "      <td>NOT SPECIFIED</td>\n",
       "      <td>1.52</td>\n",
       "      <td>NaN</td>\n",
       "    </tr>\n",
       "    <tr>\n",
       "      <th>1</th>\n",
       "      <td>SURVEY</td>\n",
       "      <td>1950</td>\n",
       "      <td>MARKETING YEAR</td>\n",
       "      <td>NaN</td>\n",
       "      <td>STATE</td>\n",
       "      <td>ALABAMA</td>\n",
       "      <td>1.0</td>\n",
       "      <td>NaN</td>\n",
       "      <td>NaN</td>\n",
       "      <td>NaN</td>\n",
       "      <td>...</td>\n",
       "      <td>NaN</td>\n",
       "      <td>NaN</td>\n",
       "      <td>0</td>\n",
       "      <td>NaN</td>\n",
       "      <td>CORN</td>\n",
       "      <td>CORN, GRAIN - PRICE RECEIVED, MEASURED IN $ / BU</td>\n",
       "      <td>TOTAL</td>\n",
       "      <td>NOT SPECIFIED</td>\n",
       "      <td>1.48</td>\n",
       "      <td>NaN</td>\n",
       "    </tr>\n",
       "    <tr>\n",
       "      <th>2</th>\n",
       "      <td>SURVEY</td>\n",
       "      <td>1950</td>\n",
       "      <td>MARKETING YEAR</td>\n",
       "      <td>NaN</td>\n",
       "      <td>STATE</td>\n",
       "      <td>ARIZONA</td>\n",
       "      <td>4.0</td>\n",
       "      <td>NaN</td>\n",
       "      <td>NaN</td>\n",
       "      <td>NaN</td>\n",
       "      <td>...</td>\n",
       "      <td>NaN</td>\n",
       "      <td>NaN</td>\n",
       "      <td>0</td>\n",
       "      <td>NaN</td>\n",
       "      <td>CORN</td>\n",
       "      <td>CORN, GRAIN - PRICE RECEIVED, MEASURED IN $ / BU</td>\n",
       "      <td>TOTAL</td>\n",
       "      <td>NOT SPECIFIED</td>\n",
       "      <td>2.04</td>\n",
       "      <td>NaN</td>\n",
       "    </tr>\n",
       "    <tr>\n",
       "      <th>3</th>\n",
       "      <td>SURVEY</td>\n",
       "      <td>1950</td>\n",
       "      <td>MARKETING YEAR</td>\n",
       "      <td>NaN</td>\n",
       "      <td>STATE</td>\n",
       "      <td>ARIZONA</td>\n",
       "      <td>4.0</td>\n",
       "      <td>NaN</td>\n",
       "      <td>NaN</td>\n",
       "      <td>NaN</td>\n",
       "      <td>...</td>\n",
       "      <td>NaN</td>\n",
       "      <td>NaN</td>\n",
       "      <td>0</td>\n",
       "      <td>NaN</td>\n",
       "      <td>CORN</td>\n",
       "      <td>CORN, SILAGE - PRICE RECEIVED, MEASURED IN $ /...</td>\n",
       "      <td>TOTAL</td>\n",
       "      <td>NOT SPECIFIED</td>\n",
       "      <td>7.2</td>\n",
       "      <td>NaN</td>\n",
       "    </tr>\n",
       "    <tr>\n",
       "      <th>4</th>\n",
       "      <td>SURVEY</td>\n",
       "      <td>1950</td>\n",
       "      <td>MARKETING YEAR</td>\n",
       "      <td>NaN</td>\n",
       "      <td>STATE</td>\n",
       "      <td>ARKANSAS</td>\n",
       "      <td>5.0</td>\n",
       "      <td>NaN</td>\n",
       "      <td>NaN</td>\n",
       "      <td>NaN</td>\n",
       "      <td>...</td>\n",
       "      <td>NaN</td>\n",
       "      <td>NaN</td>\n",
       "      <td>0</td>\n",
       "      <td>NaN</td>\n",
       "      <td>CORN</td>\n",
       "      <td>CORN, GRAIN - PRICE RECEIVED, MEASURED IN $ / BU</td>\n",
       "      <td>TOTAL</td>\n",
       "      <td>NOT SPECIFIED</td>\n",
       "      <td>1.42</td>\n",
       "      <td>NaN</td>\n",
       "    </tr>\n",
       "  </tbody>\n",
       "</table>\n",
       "<p>5 rows × 21 columns</p>\n",
       "</div>"
      ],
      "text/plain": [
       "  Program  Year          Period Week Ending Geo Level     State  State ANSI  \\\n",
       "0  SURVEY  1950  MARKETING YEAR         NaN  NATIONAL  US TOTAL         NaN   \n",
       "1  SURVEY  1950  MARKETING YEAR         NaN     STATE   ALABAMA         1.0   \n",
       "2  SURVEY  1950  MARKETING YEAR         NaN     STATE   ARIZONA         4.0   \n",
       "3  SURVEY  1950  MARKETING YEAR         NaN     STATE   ARIZONA         4.0   \n",
       "4  SURVEY  1950  MARKETING YEAR         NaN     STATE  ARKANSAS         5.0   \n",
       "\n",
       "  Ag District  Ag District Code County  ...  Zip Code  Region watershed_code  \\\n",
       "0         NaN               NaN    NaN  ...       NaN     NaN              0   \n",
       "1         NaN               NaN    NaN  ...       NaN     NaN              0   \n",
       "2         NaN               NaN    NaN  ...       NaN     NaN              0   \n",
       "3         NaN               NaN    NaN  ...       NaN     NaN              0   \n",
       "4         NaN               NaN    NaN  ...       NaN     NaN              0   \n",
       "\n",
       "   Watershed Commodity                                          Data Item  \\\n",
       "0        NaN      CORN   CORN, GRAIN - PRICE RECEIVED, MEASURED IN $ / BU   \n",
       "1        NaN      CORN   CORN, GRAIN - PRICE RECEIVED, MEASURED IN $ / BU   \n",
       "2        NaN      CORN   CORN, GRAIN - PRICE RECEIVED, MEASURED IN $ / BU   \n",
       "3        NaN      CORN  CORN, SILAGE - PRICE RECEIVED, MEASURED IN $ /...   \n",
       "4        NaN      CORN   CORN, GRAIN - PRICE RECEIVED, MEASURED IN $ / BU   \n",
       "\n",
       "  Domain Domain Category Value CV (%)  \n",
       "0  TOTAL   NOT SPECIFIED  1.52    NaN  \n",
       "1  TOTAL   NOT SPECIFIED  1.48    NaN  \n",
       "2  TOTAL   NOT SPECIFIED  2.04    NaN  \n",
       "3  TOTAL   NOT SPECIFIED   7.2    NaN  \n",
       "4  TOTAL   NOT SPECIFIED  1.42    NaN  \n",
       "\n",
       "[5 rows x 21 columns]"
      ]
     },
     "metadata": {},
     "output_type": "display_data"
    }
   ],
   "source": [
    "# concat all the dataframes into 1.\n",
    "# make sure to reassign index values so there aren't duplicate values\n",
    "corn_df = pd.concat(corn_list, ignore_index=True)\n",
    "\n",
    "# confirm that the data frame was created successfully\n",
    "display(corn_df.head())"
   ]
  },
  {
   "cell_type": "markdown",
   "id": "cc1c022f-eea3-461f-be9e-9fd5c4d63515",
   "metadata": {},
   "source": [
    "The data frame was created successfully."
   ]
  },
  {
   "cell_type": "markdown",
   "id": "d225879e-75e2-4ab7-93ac-4f129d8b7cfd",
   "metadata": {},
   "source": [
    "## Corn Dataframe EDA and cleaning"
   ]
  },
  {
   "cell_type": "markdown",
   "id": "ebd1d30b-b601-4cf4-b023-4620128f08da",
   "metadata": {},
   "source": [
    "I will now do some exploratory data analysis to get to know the corn data."
   ]
  },
  {
   "cell_type": "code",
   "execution_count": 4,
   "id": "99c776c2-7867-4dac-b781-c1339b9f3e44",
   "metadata": {},
   "outputs": [
    {
     "data": {
      "text/plain": [
       "(1873192, 21)"
      ]
     },
     "execution_count": 4,
     "metadata": {},
     "output_type": "execute_result"
    }
   ],
   "source": [
    "corn_df.shape"
   ]
  },
  {
   "cell_type": "markdown",
   "id": "e949fb28-7558-4f69-9c85-3d8994775470",
   "metadata": {},
   "source": [
    "1.87 million rows and 21 columns. I will not need all of this data."
   ]
  },
  {
   "cell_type": "code",
   "execution_count": 5,
   "id": "6659eab2-1851-4764-b7e7-f44dbc939128",
   "metadata": {},
   "outputs": [
    {
     "data": {
      "text/html": [
       "<div>\n",
       "<style scoped>\n",
       "    .dataframe tbody tr th:only-of-type {\n",
       "        vertical-align: middle;\n",
       "    }\n",
       "\n",
       "    .dataframe tbody tr th {\n",
       "        vertical-align: top;\n",
       "    }\n",
       "\n",
       "    .dataframe thead th {\n",
       "        text-align: right;\n",
       "    }\n",
       "</style>\n",
       "<table border=\"1\" class=\"dataframe\">\n",
       "  <thead>\n",
       "    <tr style=\"text-align: right;\">\n",
       "      <th></th>\n",
       "      <th>Program</th>\n",
       "      <th>Year</th>\n",
       "      <th>Period</th>\n",
       "      <th>Week Ending</th>\n",
       "      <th>Geo Level</th>\n",
       "      <th>State</th>\n",
       "      <th>State ANSI</th>\n",
       "      <th>Ag District</th>\n",
       "      <th>Ag District Code</th>\n",
       "      <th>County</th>\n",
       "      <th>...</th>\n",
       "      <th>Zip Code</th>\n",
       "      <th>Region</th>\n",
       "      <th>watershed_code</th>\n",
       "      <th>Watershed</th>\n",
       "      <th>Commodity</th>\n",
       "      <th>Data Item</th>\n",
       "      <th>Domain</th>\n",
       "      <th>Domain Category</th>\n",
       "      <th>Value</th>\n",
       "      <th>CV (%)</th>\n",
       "    </tr>\n",
       "  </thead>\n",
       "  <tbody>\n",
       "    <tr>\n",
       "      <th>0</th>\n",
       "      <td>SURVEY</td>\n",
       "      <td>1950</td>\n",
       "      <td>MARKETING YEAR</td>\n",
       "      <td>NaN</td>\n",
       "      <td>NATIONAL</td>\n",
       "      <td>US TOTAL</td>\n",
       "      <td>NaN</td>\n",
       "      <td>NaN</td>\n",
       "      <td>NaN</td>\n",
       "      <td>NaN</td>\n",
       "      <td>...</td>\n",
       "      <td>NaN</td>\n",
       "      <td>NaN</td>\n",
       "      <td>0</td>\n",
       "      <td>NaN</td>\n",
       "      <td>CORN</td>\n",
       "      <td>CORN, GRAIN - PRICE RECEIVED, MEASURED IN $ / BU</td>\n",
       "      <td>TOTAL</td>\n",
       "      <td>NOT SPECIFIED</td>\n",
       "      <td>1.52</td>\n",
       "      <td>NaN</td>\n",
       "    </tr>\n",
       "    <tr>\n",
       "      <th>1</th>\n",
       "      <td>SURVEY</td>\n",
       "      <td>1950</td>\n",
       "      <td>MARKETING YEAR</td>\n",
       "      <td>NaN</td>\n",
       "      <td>STATE</td>\n",
       "      <td>ALABAMA</td>\n",
       "      <td>1.0</td>\n",
       "      <td>NaN</td>\n",
       "      <td>NaN</td>\n",
       "      <td>NaN</td>\n",
       "      <td>...</td>\n",
       "      <td>NaN</td>\n",
       "      <td>NaN</td>\n",
       "      <td>0</td>\n",
       "      <td>NaN</td>\n",
       "      <td>CORN</td>\n",
       "      <td>CORN, GRAIN - PRICE RECEIVED, MEASURED IN $ / BU</td>\n",
       "      <td>TOTAL</td>\n",
       "      <td>NOT SPECIFIED</td>\n",
       "      <td>1.48</td>\n",
       "      <td>NaN</td>\n",
       "    </tr>\n",
       "    <tr>\n",
       "      <th>2</th>\n",
       "      <td>SURVEY</td>\n",
       "      <td>1950</td>\n",
       "      <td>MARKETING YEAR</td>\n",
       "      <td>NaN</td>\n",
       "      <td>STATE</td>\n",
       "      <td>ARIZONA</td>\n",
       "      <td>4.0</td>\n",
       "      <td>NaN</td>\n",
       "      <td>NaN</td>\n",
       "      <td>NaN</td>\n",
       "      <td>...</td>\n",
       "      <td>NaN</td>\n",
       "      <td>NaN</td>\n",
       "      <td>0</td>\n",
       "      <td>NaN</td>\n",
       "      <td>CORN</td>\n",
       "      <td>CORN, GRAIN - PRICE RECEIVED, MEASURED IN $ / BU</td>\n",
       "      <td>TOTAL</td>\n",
       "      <td>NOT SPECIFIED</td>\n",
       "      <td>2.04</td>\n",
       "      <td>NaN</td>\n",
       "    </tr>\n",
       "    <tr>\n",
       "      <th>3</th>\n",
       "      <td>SURVEY</td>\n",
       "      <td>1950</td>\n",
       "      <td>MARKETING YEAR</td>\n",
       "      <td>NaN</td>\n",
       "      <td>STATE</td>\n",
       "      <td>ARIZONA</td>\n",
       "      <td>4.0</td>\n",
       "      <td>NaN</td>\n",
       "      <td>NaN</td>\n",
       "      <td>NaN</td>\n",
       "      <td>...</td>\n",
       "      <td>NaN</td>\n",
       "      <td>NaN</td>\n",
       "      <td>0</td>\n",
       "      <td>NaN</td>\n",
       "      <td>CORN</td>\n",
       "      <td>CORN, SILAGE - PRICE RECEIVED, MEASURED IN $ /...</td>\n",
       "      <td>TOTAL</td>\n",
       "      <td>NOT SPECIFIED</td>\n",
       "      <td>7.2</td>\n",
       "      <td>NaN</td>\n",
       "    </tr>\n",
       "    <tr>\n",
       "      <th>4</th>\n",
       "      <td>SURVEY</td>\n",
       "      <td>1950</td>\n",
       "      <td>MARKETING YEAR</td>\n",
       "      <td>NaN</td>\n",
       "      <td>STATE</td>\n",
       "      <td>ARKANSAS</td>\n",
       "      <td>5.0</td>\n",
       "      <td>NaN</td>\n",
       "      <td>NaN</td>\n",
       "      <td>NaN</td>\n",
       "      <td>...</td>\n",
       "      <td>NaN</td>\n",
       "      <td>NaN</td>\n",
       "      <td>0</td>\n",
       "      <td>NaN</td>\n",
       "      <td>CORN</td>\n",
       "      <td>CORN, GRAIN - PRICE RECEIVED, MEASURED IN $ / BU</td>\n",
       "      <td>TOTAL</td>\n",
       "      <td>NOT SPECIFIED</td>\n",
       "      <td>1.42</td>\n",
       "      <td>NaN</td>\n",
       "    </tr>\n",
       "  </tbody>\n",
       "</table>\n",
       "<p>5 rows × 21 columns</p>\n",
       "</div>"
      ],
      "text/plain": [
       "  Program  Year          Period Week Ending Geo Level     State  State ANSI  \\\n",
       "0  SURVEY  1950  MARKETING YEAR         NaN  NATIONAL  US TOTAL         NaN   \n",
       "1  SURVEY  1950  MARKETING YEAR         NaN     STATE   ALABAMA         1.0   \n",
       "2  SURVEY  1950  MARKETING YEAR         NaN     STATE   ARIZONA         4.0   \n",
       "3  SURVEY  1950  MARKETING YEAR         NaN     STATE   ARIZONA         4.0   \n",
       "4  SURVEY  1950  MARKETING YEAR         NaN     STATE  ARKANSAS         5.0   \n",
       "\n",
       "  Ag District  Ag District Code County  ...  Zip Code  Region watershed_code  \\\n",
       "0         NaN               NaN    NaN  ...       NaN     NaN              0   \n",
       "1         NaN               NaN    NaN  ...       NaN     NaN              0   \n",
       "2         NaN               NaN    NaN  ...       NaN     NaN              0   \n",
       "3         NaN               NaN    NaN  ...       NaN     NaN              0   \n",
       "4         NaN               NaN    NaN  ...       NaN     NaN              0   \n",
       "\n",
       "   Watershed Commodity                                          Data Item  \\\n",
       "0        NaN      CORN   CORN, GRAIN - PRICE RECEIVED, MEASURED IN $ / BU   \n",
       "1        NaN      CORN   CORN, GRAIN - PRICE RECEIVED, MEASURED IN $ / BU   \n",
       "2        NaN      CORN   CORN, GRAIN - PRICE RECEIVED, MEASURED IN $ / BU   \n",
       "3        NaN      CORN  CORN, SILAGE - PRICE RECEIVED, MEASURED IN $ /...   \n",
       "4        NaN      CORN   CORN, GRAIN - PRICE RECEIVED, MEASURED IN $ / BU   \n",
       "\n",
       "  Domain Domain Category Value CV (%)  \n",
       "0  TOTAL   NOT SPECIFIED  1.52    NaN  \n",
       "1  TOTAL   NOT SPECIFIED  1.48    NaN  \n",
       "2  TOTAL   NOT SPECIFIED  2.04    NaN  \n",
       "3  TOTAL   NOT SPECIFIED   7.2    NaN  \n",
       "4  TOTAL   NOT SPECIFIED  1.42    NaN  \n",
       "\n",
       "[5 rows x 21 columns]"
      ]
     },
     "execution_count": 5,
     "metadata": {},
     "output_type": "execute_result"
    }
   ],
   "source": [
    "corn_df.head(5)"
   ]
  },
  {
   "cell_type": "markdown",
   "id": "b97a3e28-dfba-46d2-be43-f1b42285d1a4",
   "metadata": {},
   "source": [
    "There are 21 columns in this data frame. The columns of interest will be:\n",
    "- `Year`\n",
    "- `Period`\n",
    "- `Geo Level`\n",
    "- `Data Item`\n",
    "- `Value`\n",
    "\n",
    "For simplicity, I will drop all of the other columns."
   ]
  },
  {
   "cell_type": "code",
   "execution_count": 6,
   "id": "48240c26-0f02-4f7e-b076-8f7955eb5337",
   "metadata": {},
   "outputs": [
    {
     "data": {
      "text/html": [
       "<div>\n",
       "<style scoped>\n",
       "    .dataframe tbody tr th:only-of-type {\n",
       "        vertical-align: middle;\n",
       "    }\n",
       "\n",
       "    .dataframe tbody tr th {\n",
       "        vertical-align: top;\n",
       "    }\n",
       "\n",
       "    .dataframe thead th {\n",
       "        text-align: right;\n",
       "    }\n",
       "</style>\n",
       "<table border=\"1\" class=\"dataframe\">\n",
       "  <thead>\n",
       "    <tr style=\"text-align: right;\">\n",
       "      <th></th>\n",
       "      <th>Year</th>\n",
       "      <th>Period</th>\n",
       "      <th>Geo Level</th>\n",
       "      <th>Data Item</th>\n",
       "      <th>Value</th>\n",
       "    </tr>\n",
       "  </thead>\n",
       "  <tbody>\n",
       "    <tr>\n",
       "      <th>0</th>\n",
       "      <td>1950</td>\n",
       "      <td>MARKETING YEAR</td>\n",
       "      <td>NATIONAL</td>\n",
       "      <td>CORN, GRAIN - PRICE RECEIVED, MEASURED IN $ / BU</td>\n",
       "      <td>1.52</td>\n",
       "    </tr>\n",
       "    <tr>\n",
       "      <th>1</th>\n",
       "      <td>1950</td>\n",
       "      <td>MARKETING YEAR</td>\n",
       "      <td>STATE</td>\n",
       "      <td>CORN, GRAIN - PRICE RECEIVED, MEASURED IN $ / BU</td>\n",
       "      <td>1.48</td>\n",
       "    </tr>\n",
       "    <tr>\n",
       "      <th>2</th>\n",
       "      <td>1950</td>\n",
       "      <td>MARKETING YEAR</td>\n",
       "      <td>STATE</td>\n",
       "      <td>CORN, GRAIN - PRICE RECEIVED, MEASURED IN $ / BU</td>\n",
       "      <td>2.04</td>\n",
       "    </tr>\n",
       "    <tr>\n",
       "      <th>3</th>\n",
       "      <td>1950</td>\n",
       "      <td>MARKETING YEAR</td>\n",
       "      <td>STATE</td>\n",
       "      <td>CORN, SILAGE - PRICE RECEIVED, MEASURED IN $ /...</td>\n",
       "      <td>7.2</td>\n",
       "    </tr>\n",
       "    <tr>\n",
       "      <th>4</th>\n",
       "      <td>1950</td>\n",
       "      <td>MARKETING YEAR</td>\n",
       "      <td>STATE</td>\n",
       "      <td>CORN, GRAIN - PRICE RECEIVED, MEASURED IN $ / BU</td>\n",
       "      <td>1.42</td>\n",
       "    </tr>\n",
       "  </tbody>\n",
       "</table>\n",
       "</div>"
      ],
      "text/plain": [
       "   Year          Period Geo Level  \\\n",
       "0  1950  MARKETING YEAR  NATIONAL   \n",
       "1  1950  MARKETING YEAR     STATE   \n",
       "2  1950  MARKETING YEAR     STATE   \n",
       "3  1950  MARKETING YEAR     STATE   \n",
       "4  1950  MARKETING YEAR     STATE   \n",
       "\n",
       "                                           Data Item Value  \n",
       "0   CORN, GRAIN - PRICE RECEIVED, MEASURED IN $ / BU  1.52  \n",
       "1   CORN, GRAIN - PRICE RECEIVED, MEASURED IN $ / BU  1.48  \n",
       "2   CORN, GRAIN - PRICE RECEIVED, MEASURED IN $ / BU  2.04  \n",
       "3  CORN, SILAGE - PRICE RECEIVED, MEASURED IN $ /...   7.2  \n",
       "4   CORN, GRAIN - PRICE RECEIVED, MEASURED IN $ / BU  1.42  "
      ]
     },
     "metadata": {},
     "output_type": "display_data"
    }
   ],
   "source": [
    "# set conr_df equal to the corn_df with just the columns of interest\n",
    "corn_df = corn_df[['Year', 'Period', 'Geo Level', 'Data Item', 'Value']]\n",
    "\n",
    "#confirm drop successfully\n",
    "display(corn_df.head())"
   ]
  },
  {
   "cell_type": "markdown",
   "id": "558101b2-723d-4131-9e5b-5575f7377ddd",
   "metadata": {},
   "source": [
    "The data frame has now been simplified significantly. The `Data Item` column contains the labels and the `Value` column contains the values for the data of interest. I will not need all 1.8 million of these data. I will now check what unique values there are to select the values of interest."
   ]
  },
  {
   "cell_type": "code",
   "execution_count": 7,
   "id": "12954847-469d-47b9-8d95-38bf47eb4651",
   "metadata": {},
   "outputs": [
    {
     "data": {
      "text/plain": [
       "CORN, GRAIN - ACRES HARVESTED                                           192900\n",
       "CORN, GRAIN - PRODUCTION, MEASURED IN BU                                192450\n",
       "CORN, GRAIN - OPERATIONS WITH AREA HARVESTED                            181897\n",
       "CORN, GRAIN - YIELD, MEASURED IN BU / ACRE                              178395\n",
       "CORN - ACRES PLANTED                                                    154644\n",
       "                                                                         ...  \n",
       "CORN, SILAGE, ORGANIC - SALES IN CONVENTIONAL MARKETS, MEASURED IN $         6\n",
       "CORN, GRAIN, NON-IRRIGATED - EAR COUNT, MEASURED IN STALKS / ACRE            2\n",
       "CORN, GRAIN, IRRIGATED - EAR COUNT, MEASURED IN STALKS / ACRE                2\n",
       "CORN - ACRES REMAINING TO BE PLANTED                                         2\n",
       "CORN, GRAIN - RELATIVE WEIGHT, MEASURED IN PCT OF COMMODITY TOTALS           1\n",
       "Name: Data Item, Length: 225, dtype: int64"
      ]
     },
     "metadata": {},
     "output_type": "display_data"
    }
   ],
   "source": [
    "display(corn_df['Data Item'].value_counts())"
   ]
  },
  {
   "cell_type": "code",
   "execution_count": 8,
   "id": "66fe2f7d",
   "metadata": {},
   "outputs": [
    {
     "data": {
      "text/plain": [
       "225"
      ]
     },
     "execution_count": 8,
     "metadata": {},
     "output_type": "execute_result"
    }
   ],
   "source": [
    "# Count unique data item entries\n",
    "len(corn_df['Data Item'].unique())"
   ]
  },
  {
   "cell_type": "markdown",
   "id": "52252784-6bb2-4407-a957-671537aeee46",
   "metadata": {},
   "source": [
    "There are 225 unique values in this list. I am only interested in seven of these data items:\n",
    "- `CORN, GRAIN - ACRES HARVESTED`\n",
    "- `CORN, GRAIN - PRODUCTION, MEASURED IN BU`\n",
    "- `CORN, GRAIN - YIELD, MEASURED IN BU / ACRE`\n",
    "- `CORN, GRAIN - PRICE RECEIVED, MEASURED IN $ / BU`\n",
    "- `CORN, GRAIN - YIELD, MEASURED IN BU / NET PLANTED ACRE`\n",
    "- `CORN, GRAIN - ACRES PLANTED, NET`\n",
    "- `CORN, GRAIN - PRODUCTION, MEASURED IN $`\n",
    "\n",
    "I will throw away all of the other data."
   ]
  },
  {
   "cell_type": "code",
   "execution_count": 9,
   "id": "9c867901-7cba-42de-a549-2c1436da6416",
   "metadata": {},
   "outputs": [
    {
     "name": "stdout",
     "output_type": "stream",
     "text": [
      "CORN, GRAIN - ACRES HARVESTED                             192900\n",
      "CORN, GRAIN - PRODUCTION, MEASURED IN BU                  192450\n",
      "CORN, GRAIN - YIELD, MEASURED IN BU / ACRE                178395\n",
      "CORN, GRAIN - PRICE RECEIVED, MEASURED IN $ / BU           29189\n",
      "CORN, GRAIN - YIELD, MEASURED IN BU / NET PLANTED ACRE     23788\n",
      "CORN, GRAIN - ACRES PLANTED, NET                           22123\n",
      "CORN, GRAIN - PRODUCTION, MEASURED IN $                     3054\n",
      "Name: Data Item, dtype: int64\n"
     ]
    },
    {
     "data": {
      "text/html": [
       "<div>\n",
       "<style scoped>\n",
       "    .dataframe tbody tr th:only-of-type {\n",
       "        vertical-align: middle;\n",
       "    }\n",
       "\n",
       "    .dataframe tbody tr th {\n",
       "        vertical-align: top;\n",
       "    }\n",
       "\n",
       "    .dataframe thead th {\n",
       "        text-align: right;\n",
       "    }\n",
       "</style>\n",
       "<table border=\"1\" class=\"dataframe\">\n",
       "  <thead>\n",
       "    <tr style=\"text-align: right;\">\n",
       "      <th></th>\n",
       "      <th>Year</th>\n",
       "      <th>Period</th>\n",
       "      <th>Geo Level</th>\n",
       "      <th>Data Item</th>\n",
       "      <th>Value</th>\n",
       "    </tr>\n",
       "  </thead>\n",
       "  <tbody>\n",
       "    <tr>\n",
       "      <th>50</th>\n",
       "      <td>1950</td>\n",
       "      <td>YEAR</td>\n",
       "      <td>AGRICULTURAL DISTRICT</td>\n",
       "      <td>CORN, GRAIN - ACRES HARVESTED</td>\n",
       "      <td>189,000</td>\n",
       "    </tr>\n",
       "    <tr>\n",
       "      <th>53</th>\n",
       "      <td>1950</td>\n",
       "      <td>YEAR</td>\n",
       "      <td>AGRICULTURAL DISTRICT</td>\n",
       "      <td>CORN, GRAIN - ACRES HARVESTED</td>\n",
       "      <td>222,000</td>\n",
       "    </tr>\n",
       "    <tr>\n",
       "      <th>56</th>\n",
       "      <td>1950</td>\n",
       "      <td>YEAR</td>\n",
       "      <td>AGRICULTURAL DISTRICT</td>\n",
       "      <td>CORN, GRAIN - ACRES HARVESTED</td>\n",
       "      <td>282,000</td>\n",
       "    </tr>\n",
       "    <tr>\n",
       "      <th>59</th>\n",
       "      <td>1950</td>\n",
       "      <td>YEAR</td>\n",
       "      <td>AGRICULTURAL DISTRICT</td>\n",
       "      <td>CORN, GRAIN - ACRES HARVESTED</td>\n",
       "      <td>116,000</td>\n",
       "    </tr>\n",
       "    <tr>\n",
       "      <th>62</th>\n",
       "      <td>1950</td>\n",
       "      <td>YEAR</td>\n",
       "      <td>AGRICULTURAL DISTRICT</td>\n",
       "      <td>CORN, GRAIN - ACRES HARVESTED</td>\n",
       "      <td>302,000</td>\n",
       "    </tr>\n",
       "  </tbody>\n",
       "</table>\n",
       "</div>"
      ],
      "text/plain": [
       "    Year Period              Geo Level                      Data Item    Value\n",
       "50  1950   YEAR  AGRICULTURAL DISTRICT  CORN, GRAIN - ACRES HARVESTED  189,000\n",
       "53  1950   YEAR  AGRICULTURAL DISTRICT  CORN, GRAIN - ACRES HARVESTED  222,000\n",
       "56  1950   YEAR  AGRICULTURAL DISTRICT  CORN, GRAIN - ACRES HARVESTED  282,000\n",
       "59  1950   YEAR  AGRICULTURAL DISTRICT  CORN, GRAIN - ACRES HARVESTED  116,000\n",
       "62  1950   YEAR  AGRICULTURAL DISTRICT  CORN, GRAIN - ACRES HARVESTED  302,000"
      ]
     },
     "execution_count": 9,
     "metadata": {},
     "output_type": "execute_result"
    }
   ],
   "source": [
    "# I need a list of the items I want to keep\n",
    "data_keep_list = ['CORN, GRAIN - ACRES HARVESTED', 'CORN, GRAIN - PRODUCTION, MEASURED IN BU', 'CORN, GRAIN - YIELD, MEASURED IN BU / ACRE', 'CORN, GRAIN - PRICE RECEIVED, MEASURED IN $ / BU', 'CORN, GRAIN - YIELD, MEASURED IN BU / NET PLANTED ACRE', 'CORN, GRAIN - ACRES PLANTED, NET', 'CORN, GRAIN - PRODUCTION, MEASURED IN $']\n",
    "\n",
    "# I want to keep the original data frame intact, so I will create a new one to edit. \n",
    "corn_df_working = pd.DataFrame()\n",
    "\n",
    "# iterate through each value in my keep list\n",
    "for row in data_keep_list:\n",
    "    \n",
    "    # select all of the rows from the original data frame that contain the desired \"keeper\" data\n",
    "    data_filter = corn_df[corn_df['Data Item'] == row]\n",
    "    \n",
    "    # add the \"keeper\" data to the new data frame\n",
    "    corn_df_working = pd.concat([corn_df_working, data_filter])\n",
    "\n",
    "# Confirm that the new data frame was created containing only the data items of interest\n",
    "print(corn_df_working['Data Item'].value_counts())\n",
    "\n",
    "# Also, confirm that the data frame looks how I want it to look.\n",
    "corn_df_working.head(5)"
   ]
  },
  {
   "cell_type": "markdown",
   "id": "7a02db28-02eb-4769-b41c-59fb84989b27",
   "metadata": {},
   "source": [
    "The new data frame has all of the data items of interest and appears to have been created properly."
   ]
  },
  {
   "cell_type": "markdown",
   "id": "2f49b608-1295-41fa-8ab0-2179c7c11fc5",
   "metadata": {},
   "source": [
    "### Modify reporting periods"
   ]
  },
  {
   "cell_type": "markdown",
   "id": "396f2d97-a935-438d-a629-9c8cc299a8c4",
   "metadata": {},
   "source": [
    "I now want to make sure that only the reporting periods I am interested in are in the data frame. I want to work with data corresponding to the `Year` and `Month`. Not other periodic data. So, I will drop these data from my table."
   ]
  },
  {
   "cell_type": "code",
   "execution_count": 10,
   "id": "48c3eed8-8e2d-4b43-b141-4861af2aa921",
   "metadata": {},
   "outputs": [
    {
     "name": "stdout",
     "output_type": "stream",
     "text": [
      "['YEAR' 'YEAR - AUG FORECAST' 'YEAR - JUN ACREAGE' 'YEAR - NOV FORECAST'\n",
      " 'YEAR - OCT FORECAST' 'YEAR - SEP FORECAST' 'MARKETING YEAR' 'JAN' 'FEB'\n",
      " 'MAR' 'APR' 'MAY' 'JUN' 'JUL' 'AUG' 'SEP' 'OCT' 'NOV' 'DEC']\n"
     ]
    }
   ],
   "source": [
    "print(corn_df_working['Period'].unique())"
   ]
  },
  {
   "cell_type": "markdown",
   "id": "26faf8e2-fb21-4118-ac79-78d1ec722d86",
   "metadata": {},
   "source": [
    "There are for non-year, non-month time periods in the data frame that need to be removed:\n",
    "- `YEAR - AUG FORECAST`\n",
    "- `YEAR - JUN ACREAGE`\n",
    "- `YEAR - NOV FORECAST`\n",
    "- `YEAR - OCT FORECAST`\n",
    "- `YEAR - SEP FORECAST`\n",
    "\n",
    "I'm not clear on whether the `Marketing Year` is refereing to `sweet corn` or `corn for grains`. To simplify the analysis, I'm going to assume it is primarily refering to `sweet corn`. The `Marketing Year` for `sweet corn` begins on January 1, so `Marketing Year` can be converted to year. ([Ref](https://en.wikipedia.org/wiki/Marketing_year))"
   ]
  },
  {
   "cell_type": "code",
   "execution_count": 11,
   "id": "dcf88560-7b79-4303-bf7c-e6799ba1ab78",
   "metadata": {},
   "outputs": [
    {
     "name": "stdout",
     "output_type": "stream",
     "text": [
      "['YEAR' 'MARKETING YEAR' 'JAN' 'FEB' 'MAR' 'APR' 'MAY' 'JUN' 'JUL' 'AUG'\n",
      " 'SEP' 'OCT' 'NOV' 'DEC']\n"
     ]
    }
   ],
   "source": [
    "# Period values to be dropped\n",
    "time_drop_rows = ['YEAR - AUG FORECAST', 'YEAR - JUN ACREAGE', 'YEAR - NOV FORECAST', 'YEAR - OCT FORECAST', 'YEAR - SEP FORECAST']\n",
    "\n",
    "# iterate through the items to be dropped.\n",
    "for row in time_drop_rows:\n",
    "    \n",
    "    # select all of the rows from the data frame where the period is equal to the value of interest\n",
    "    time_filter = corn_df_working[corn_df_working['Period'] == row]\n",
    "    \n",
    "    # remove the filtered data from the data frame\n",
    "    corn_df_working.drop(time_filter.index, inplace=True)\n",
    "\n",
    "# check taht only year and month values are left in the period column\n",
    "print(corn_df_working['Period'].unique())"
   ]
  },
  {
   "cell_type": "markdown",
   "id": "4c80ccfa-c9b0-444b-8daa-decc5b93dc3c",
   "metadata": {},
   "source": [
    "All of the non-year, non-month periods have been removed. I can now convert marketing year to year."
   ]
  },
  {
   "cell_type": "code",
   "execution_count": 12,
   "id": "0863606d-39a9-48d8-9a21-ab1021938657",
   "metadata": {},
   "outputs": [
    {
     "data": {
      "text/plain": [
       "YEAR    606708\n",
       "FEB       2190\n",
       "MAR       2189\n",
       "MAY       2185\n",
       "JAN       2184\n",
       "DEC       2179\n",
       "APR       2178\n",
       "SEP       2174\n",
       "JUL       2172\n",
       "AUG       2169\n",
       "JUN       2167\n",
       "OCT       2143\n",
       "NOV       2139\n",
       "Name: Period, dtype: int64"
      ]
     },
     "metadata": {},
     "output_type": "display_data"
    }
   ],
   "source": [
    "# select all rows where the period equals marketing year\n",
    "marketing_filter = corn_df_working['Period'] == 'MARKETING YEAR'\n",
    "\n",
    "# convert the period in each of these rows to \"YEAR\"\n",
    "corn_df_working.loc[marketing_filter, 'Period'] = 'YEAR'\n",
    "\n",
    "# confirm that the transformation worked successfully\n",
    "display(corn_df_working[\"Period\"].value_counts())"
   ]
  },
  {
   "cell_type": "markdown",
   "id": "cd964c52-bc81-48e4-a77d-a859af0bd328",
   "metadata": {},
   "source": [
    "The period column now appears to be filtered properly."
   ]
  },
  {
   "cell_type": "markdown",
   "id": "d0cebd03-c864-4c6f-9dfd-e04d9e835a55",
   "metadata": {},
   "source": [
    "### Remove Unwanted Regions"
   ]
  },
  {
   "cell_type": "markdown",
   "id": "5902e962-9bb5-4766-99a5-017ffce743c9",
   "metadata": {},
   "source": [
    "There are several regions listed in the data."
   ]
  },
  {
   "cell_type": "code",
   "execution_count": 13,
   "id": "c18c81b1-aa93-4345-8ef9-8674fa2a8fbe",
   "metadata": {},
   "outputs": [
    {
     "data": {
      "text/plain": [
       "COUNTY                          517835\n",
       "AGRICULTURAL DISTRICT            59100\n",
       "STATE                            54192\n",
       "NATIONAL                          1567\n",
       "AMERICAN INDIAN RESERVATION         72\n",
       "PUERTO RICO & OUTLYING AREAS         9\n",
       "REGION : MULTI-STATE                 2\n",
       "Name: Geo Level, dtype: int64"
      ]
     },
     "metadata": {},
     "output_type": "display_data"
    }
   ],
   "source": [
    "# show all geographical levels\n",
    "display(corn_df_working[\"Geo Level\"].value_counts())"
   ]
  },
  {
   "cell_type": "markdown",
   "id": "29805566-902d-496b-aaef-b0b7c0edd60c",
   "metadata": {},
   "source": [
    "I don't want to work with every region, just `NATIONAL` data. So, I will slice out only this data."
   ]
  },
  {
   "cell_type": "code",
   "execution_count": 14,
   "id": "1fcbee4f-9c18-43d9-a79d-fd0e648a8299",
   "metadata": {},
   "outputs": [
    {
     "data": {
      "text/plain": [
       "NATIONAL    1567\n",
       "Name: Geo Level, dtype: int64"
      ]
     },
     "metadata": {},
     "output_type": "display_data"
    }
   ],
   "source": [
    "# select all rows where the geo level is equal to national\n",
    "marketing_filter = corn_df_working['Geo Level'] == 'NATIONAL'\n",
    "\n",
    "# set the corn_df_working data frame equal to itself only where the above filter is true\n",
    "corn_df_working = corn_df_working.loc[marketing_filter]\n",
    "\n",
    "# check that only the national geo level is retained\n",
    "display(corn_df_working[\"Geo Level\"].value_counts())"
   ]
  },
  {
   "cell_type": "code",
   "execution_count": 15,
   "id": "4c5da7fa-d36e-4223-b137-860ad6c6ce11",
   "metadata": {},
   "outputs": [
    {
     "name": "stdout",
     "output_type": "stream",
     "text": [
      "NATIONAL    1567\n",
      "Name: Geo Level, dtype: int64\n"
     ]
    }
   ],
   "source": [
    "# Region values to be dropped\n",
    "region_drop_rows = ['COUNTY', 'AGRICULTURAL DISTRICT', 'STATE', 'AMERICAN INDIAN RESERVATION', 'PUERTO RICO & OUTLYING AREAS', 'REGION : MULTI-STATE']\n",
    "\n",
    "# drop the various rows from the\n",
    "for row in region_drop_rows:\n",
    "    region_filter = corn_df_working[corn_df_working['Geo Level'] == row]\n",
    "    corn_df_working.drop(region_filter.index, inplace=True)\n",
    "\n",
    "print(corn_df_working['Geo Level'].value_counts())"
   ]
  },
  {
   "cell_type": "markdown",
   "id": "8e700203-c77b-4393-bc04-6e3b8b37bb7f",
   "metadata": {},
   "source": [
    "The `NATIONAL` geo level is the only one retained at this point. I can thus now drop the `Geo Level` column."
   ]
  },
  {
   "cell_type": "code",
   "execution_count": 16,
   "id": "f3d1072e-9649-4295-bc3a-a7e19f955fd1",
   "metadata": {},
   "outputs": [
    {
     "data": {
      "text/html": [
       "<div>\n",
       "<style scoped>\n",
       "    .dataframe tbody tr th:only-of-type {\n",
       "        vertical-align: middle;\n",
       "    }\n",
       "\n",
       "    .dataframe tbody tr th {\n",
       "        vertical-align: top;\n",
       "    }\n",
       "\n",
       "    .dataframe thead th {\n",
       "        text-align: right;\n",
       "    }\n",
       "</style>\n",
       "<table border=\"1\" class=\"dataframe\">\n",
       "  <thead>\n",
       "    <tr style=\"text-align: right;\">\n",
       "      <th></th>\n",
       "      <th>Year</th>\n",
       "      <th>Period</th>\n",
       "      <th>Data Item</th>\n",
       "      <th>Value</th>\n",
       "    </tr>\n",
       "  </thead>\n",
       "  <tbody>\n",
       "    <tr>\n",
       "      <th>6422</th>\n",
       "      <td>1950</td>\n",
       "      <td>YEAR</td>\n",
       "      <td>CORN, GRAIN - ACRES HARVESTED</td>\n",
       "      <td>72,398,000</td>\n",
       "    </tr>\n",
       "    <tr>\n",
       "      <th>14719</th>\n",
       "      <td>1951</td>\n",
       "      <td>YEAR</td>\n",
       "      <td>CORN, GRAIN - ACRES HARVESTED</td>\n",
       "      <td>71,191,000</td>\n",
       "    </tr>\n",
       "    <tr>\n",
       "      <th>22985</th>\n",
       "      <td>1952</td>\n",
       "      <td>YEAR</td>\n",
       "      <td>CORN, GRAIN - ACRES HARVESTED</td>\n",
       "      <td>71,353,000</td>\n",
       "    </tr>\n",
       "    <tr>\n",
       "      <th>31613</th>\n",
       "      <td>1953</td>\n",
       "      <td>YEAR</td>\n",
       "      <td>CORN, GRAIN - ACRES HARVESTED</td>\n",
       "      <td>70,738,000</td>\n",
       "    </tr>\n",
       "    <tr>\n",
       "      <th>40954</th>\n",
       "      <td>1954</td>\n",
       "      <td>YEAR</td>\n",
       "      <td>CORN, GRAIN - ACRES HARVESTED</td>\n",
       "      <td>68,668,000</td>\n",
       "    </tr>\n",
       "  </tbody>\n",
       "</table>\n",
       "</div>"
      ],
      "text/plain": [
       "       Year Period                      Data Item       Value\n",
       "6422   1950   YEAR  CORN, GRAIN - ACRES HARVESTED  72,398,000\n",
       "14719  1951   YEAR  CORN, GRAIN - ACRES HARVESTED  71,191,000\n",
       "22985  1952   YEAR  CORN, GRAIN - ACRES HARVESTED  71,353,000\n",
       "31613  1953   YEAR  CORN, GRAIN - ACRES HARVESTED  70,738,000\n",
       "40954  1954   YEAR  CORN, GRAIN - ACRES HARVESTED  68,668,000"
      ]
     },
     "execution_count": 16,
     "metadata": {},
     "output_type": "execute_result"
    }
   ],
   "source": [
    "# drop the geo level column\n",
    "corn_df_working.drop(columns='Geo Level', inplace=True)\n",
    "\n",
    "# ensure the column was dropped successfully\n",
    "corn_df_working.head()"
   ]
  },
  {
   "cell_type": "markdown",
   "id": "79d64baf-1a97-4007-a8b5-2cade971fbf7",
   "metadata": {},
   "source": [
    "The column was dropped successfully."
   ]
  },
  {
   "cell_type": "markdown",
   "id": "b41b07e0-2474-4fbe-8edd-9f22eba0985a",
   "metadata": {},
   "source": [
    "That is the last of the filtering I need to do. However, the indeces are now a bit wonky. I wont to reset the indeces for ease of use."
   ]
  },
  {
   "cell_type": "code",
   "execution_count": 17,
   "id": "55db57f4-3b3b-4c75-8d2d-58509853097a",
   "metadata": {},
   "outputs": [
    {
     "data": {
      "text/html": [
       "<div>\n",
       "<style scoped>\n",
       "    .dataframe tbody tr th:only-of-type {\n",
       "        vertical-align: middle;\n",
       "    }\n",
       "\n",
       "    .dataframe tbody tr th {\n",
       "        vertical-align: top;\n",
       "    }\n",
       "\n",
       "    .dataframe thead th {\n",
       "        text-align: right;\n",
       "    }\n",
       "</style>\n",
       "<table border=\"1\" class=\"dataframe\">\n",
       "  <thead>\n",
       "    <tr style=\"text-align: right;\">\n",
       "      <th></th>\n",
       "      <th>Year</th>\n",
       "      <th>Period</th>\n",
       "      <th>Data Item</th>\n",
       "      <th>Value</th>\n",
       "    </tr>\n",
       "  </thead>\n",
       "  <tbody>\n",
       "    <tr>\n",
       "      <th>0</th>\n",
       "      <td>1950</td>\n",
       "      <td>YEAR</td>\n",
       "      <td>CORN, GRAIN - ACRES HARVESTED</td>\n",
       "      <td>72,398,000</td>\n",
       "    </tr>\n",
       "    <tr>\n",
       "      <th>1</th>\n",
       "      <td>1951</td>\n",
       "      <td>YEAR</td>\n",
       "      <td>CORN, GRAIN - ACRES HARVESTED</td>\n",
       "      <td>71,191,000</td>\n",
       "    </tr>\n",
       "    <tr>\n",
       "      <th>2</th>\n",
       "      <td>1952</td>\n",
       "      <td>YEAR</td>\n",
       "      <td>CORN, GRAIN - ACRES HARVESTED</td>\n",
       "      <td>71,353,000</td>\n",
       "    </tr>\n",
       "    <tr>\n",
       "      <th>3</th>\n",
       "      <td>1953</td>\n",
       "      <td>YEAR</td>\n",
       "      <td>CORN, GRAIN - ACRES HARVESTED</td>\n",
       "      <td>70,738,000</td>\n",
       "    </tr>\n",
       "    <tr>\n",
       "      <th>4</th>\n",
       "      <td>1954</td>\n",
       "      <td>YEAR</td>\n",
       "      <td>CORN, GRAIN - ACRES HARVESTED</td>\n",
       "      <td>68,668,000</td>\n",
       "    </tr>\n",
       "  </tbody>\n",
       "</table>\n",
       "</div>"
      ],
      "text/plain": [
       "   Year Period                      Data Item       Value\n",
       "0  1950   YEAR  CORN, GRAIN - ACRES HARVESTED  72,398,000\n",
       "1  1951   YEAR  CORN, GRAIN - ACRES HARVESTED  71,191,000\n",
       "2  1952   YEAR  CORN, GRAIN - ACRES HARVESTED  71,353,000\n",
       "3  1953   YEAR  CORN, GRAIN - ACRES HARVESTED  70,738,000\n",
       "4  1954   YEAR  CORN, GRAIN - ACRES HARVESTED  68,668,000"
      ]
     },
     "metadata": {},
     "output_type": "display_data"
    }
   ],
   "source": [
    "# reset all indeces in corn_df_working\n",
    "corn_df_working.reset_index(drop=True, inplace=True)\n",
    "\n",
    "# confirm indeces reset successfully\n",
    "display(corn_df_working.head())"
   ]
  },
  {
   "cell_type": "markdown",
   "id": "6868889b-6fc2-4873-8a1e-2550eabcb19c",
   "metadata": {},
   "source": [
    "The indeces reset correctly."
   ]
  },
  {
   "cell_type": "markdown",
   "id": "81655519-98be-4478-96e6-2c90fed95ccd",
   "metadata": {},
   "source": [
    "## Clean Data Item Entries"
   ]
  },
  {
   "cell_type": "markdown",
   "id": "469f37f1-090e-46d0-9e8f-9814871b8a66",
   "metadata": {},
   "source": [
    "All of the data items are for grain corn - the kind of corn you eat at the dinner table. Because of this, each data item contains the prefix phrase `\"CORN, GRAIN - \"`. To increase readability/understandability, I will remove this phrase from each data item. To do this, I will split the `Data Item` column in to two columns, `Corn, Grain` and `Data Item`, using \"` - `\" as the deliminator."
   ]
  },
  {
   "cell_type": "code",
   "execution_count": 18,
   "id": "8a68ca28-26c4-49de-a5bc-46dcde11e586",
   "metadata": {},
   "outputs": [
    {
     "data": {
      "text/html": [
       "<div>\n",
       "<style scoped>\n",
       "    .dataframe tbody tr th:only-of-type {\n",
       "        vertical-align: middle;\n",
       "    }\n",
       "\n",
       "    .dataframe tbody tr th {\n",
       "        vertical-align: top;\n",
       "    }\n",
       "\n",
       "    .dataframe thead th {\n",
       "        text-align: right;\n",
       "    }\n",
       "</style>\n",
       "<table border=\"1\" class=\"dataframe\">\n",
       "  <thead>\n",
       "    <tr style=\"text-align: right;\">\n",
       "      <th></th>\n",
       "      <th>Year</th>\n",
       "      <th>Period</th>\n",
       "      <th>Data Item</th>\n",
       "      <th>Value</th>\n",
       "      <th>Corn, Grain</th>\n",
       "    </tr>\n",
       "  </thead>\n",
       "  <tbody>\n",
       "    <tr>\n",
       "      <th>1354</th>\n",
       "      <td>2011</td>\n",
       "      <td>MAR</td>\n",
       "      <td>PRICE RECEIVED, MEASURED IN $ / BU</td>\n",
       "      <td>5.53</td>\n",
       "      <td>CORN, GRAIN</td>\n",
       "    </tr>\n",
       "    <tr>\n",
       "      <th>786</th>\n",
       "      <td>1968</td>\n",
       "      <td>OCT</td>\n",
       "      <td>PRICE RECEIVED, MEASURED IN $ / BU</td>\n",
       "      <td>0.962</td>\n",
       "      <td>CORN, GRAIN</td>\n",
       "    </tr>\n",
       "    <tr>\n",
       "      <th>121</th>\n",
       "      <td>2012</td>\n",
       "      <td>YEAR</td>\n",
       "      <td>ACRES HARVESTED</td>\n",
       "      <td>8,073,334</td>\n",
       "      <td>CORN, GRAIN</td>\n",
       "    </tr>\n",
       "    <tr>\n",
       "      <th>60</th>\n",
       "      <td>1997</td>\n",
       "      <td>YEAR</td>\n",
       "      <td>ACRES HARVESTED</td>\n",
       "      <td>72,671,000</td>\n",
       "      <td>CORN, GRAIN</td>\n",
       "    </tr>\n",
       "    <tr>\n",
       "      <th>1447</th>\n",
       "      <td>2017</td>\n",
       "      <td>DEC</td>\n",
       "      <td>PRICE RECEIVED, MEASURED IN $ / BU</td>\n",
       "      <td>3.23</td>\n",
       "      <td>CORN, GRAIN</td>\n",
       "    </tr>\n",
       "  </tbody>\n",
       "</table>\n",
       "</div>"
      ],
      "text/plain": [
       "      Year Period                           Data Item       Value  Corn, Grain\n",
       "1354  2011    MAR  PRICE RECEIVED, MEASURED IN $ / BU        5.53  CORN, GRAIN\n",
       "786   1968    OCT  PRICE RECEIVED, MEASURED IN $ / BU       0.962  CORN, GRAIN\n",
       "121   2012   YEAR                     ACRES HARVESTED   8,073,334  CORN, GRAIN\n",
       "60    1997   YEAR                     ACRES HARVESTED  72,671,000  CORN, GRAIN\n",
       "1447  2017    DEC  PRICE RECEIVED, MEASURED IN $ / BU        3.23  CORN, GRAIN"
      ]
     },
     "execution_count": 18,
     "metadata": {},
     "output_type": "execute_result"
    }
   ],
   "source": [
    "# split the \"Data Item\" column into two columns, seperating them at the proper string\n",
    "corn_df_working[['Corn, Grain','Data Item']] = corn_df_working['Data Item'].str.split(' - ',expand=True)\n",
    "\n",
    "# confirm that the data was split successfully\n",
    "corn_df_working.sample(5)"
   ]
  },
  {
   "cell_type": "markdown",
   "id": "70f6e843-742b-4358-9031-156822d84efb",
   "metadata": {},
   "source": [
    "The column was properly split. I can now drop the `Corn, Grain` column, as it is contains no useful information."
   ]
  },
  {
   "cell_type": "code",
   "execution_count": 19,
   "id": "51f2b6a9-e052-45ff-8987-777ce2776f91",
   "metadata": {},
   "outputs": [
    {
     "data": {
      "text/html": [
       "<div>\n",
       "<style scoped>\n",
       "    .dataframe tbody tr th:only-of-type {\n",
       "        vertical-align: middle;\n",
       "    }\n",
       "\n",
       "    .dataframe tbody tr th {\n",
       "        vertical-align: top;\n",
       "    }\n",
       "\n",
       "    .dataframe thead th {\n",
       "        text-align: right;\n",
       "    }\n",
       "</style>\n",
       "<table border=\"1\" class=\"dataframe\">\n",
       "  <thead>\n",
       "    <tr style=\"text-align: right;\">\n",
       "      <th></th>\n",
       "      <th>Year</th>\n",
       "      <th>Period</th>\n",
       "      <th>Data Item</th>\n",
       "      <th>Value</th>\n",
       "    </tr>\n",
       "  </thead>\n",
       "  <tbody>\n",
       "    <tr>\n",
       "      <th>0</th>\n",
       "      <td>1950</td>\n",
       "      <td>YEAR</td>\n",
       "      <td>ACRES HARVESTED</td>\n",
       "      <td>72,398,000</td>\n",
       "    </tr>\n",
       "    <tr>\n",
       "      <th>1</th>\n",
       "      <td>1951</td>\n",
       "      <td>YEAR</td>\n",
       "      <td>ACRES HARVESTED</td>\n",
       "      <td>71,191,000</td>\n",
       "    </tr>\n",
       "    <tr>\n",
       "      <th>2</th>\n",
       "      <td>1952</td>\n",
       "      <td>YEAR</td>\n",
       "      <td>ACRES HARVESTED</td>\n",
       "      <td>71,353,000</td>\n",
       "    </tr>\n",
       "    <tr>\n",
       "      <th>3</th>\n",
       "      <td>1953</td>\n",
       "      <td>YEAR</td>\n",
       "      <td>ACRES HARVESTED</td>\n",
       "      <td>70,738,000</td>\n",
       "    </tr>\n",
       "    <tr>\n",
       "      <th>4</th>\n",
       "      <td>1954</td>\n",
       "      <td>YEAR</td>\n",
       "      <td>ACRES HARVESTED</td>\n",
       "      <td>68,668,000</td>\n",
       "    </tr>\n",
       "  </tbody>\n",
       "</table>\n",
       "</div>"
      ],
      "text/plain": [
       "   Year Period        Data Item       Value\n",
       "0  1950   YEAR  ACRES HARVESTED  72,398,000\n",
       "1  1951   YEAR  ACRES HARVESTED  71,191,000\n",
       "2  1952   YEAR  ACRES HARVESTED  71,353,000\n",
       "3  1953   YEAR  ACRES HARVESTED  70,738,000\n",
       "4  1954   YEAR  ACRES HARVESTED  68,668,000"
      ]
     },
     "execution_count": 19,
     "metadata": {},
     "output_type": "execute_result"
    }
   ],
   "source": [
    "# drop the \"Corn, Grain\" column\n",
    "corn_df_working.drop(columns='Corn, Grain', inplace=True)\n",
    "\n",
    "# confirm the drop was successful\n",
    "corn_df_working.head(5)"
   ]
  },
  {
   "cell_type": "markdown",
   "id": "1f507fcd-8d61-401e-891d-754c3f863dad",
   "metadata": {},
   "source": [
    "The column was dropped successfully."
   ]
  },
  {
   "cell_type": "markdown",
   "id": "d9f61a73-9c58-48d2-acb3-688957a72a2d",
   "metadata": {},
   "source": [
    "## Export compiled dataframe as a csv"
   ]
  },
  {
   "cell_type": "markdown",
   "id": "9a661838-b737-4e3c-a051-66fcf6401b84",
   "metadata": {},
   "source": [
    "The corn data frame is now ready for export. I am exporting this csv from this notebook and will seperate it into individual dataframes in another notebook so as to simplify the analysis process and seperate my steps."
   ]
  },
  {
   "cell_type": "code",
   "execution_count": 20,
   "id": "ac35fe34-8bc8-427b-8cef-dc99fd726c51",
   "metadata": {},
   "outputs": [],
   "source": [
    "corn_df_working.to_csv('./compiled_corn_df.csv')"
   ]
  },
  {
   "cell_type": "markdown",
   "id": "ad8993bb-408a-4766-adfc-e892ddbc3fad",
   "metadata": {},
   "source": [
    "This is the end of this notebook."
   ]
  }
 ],
 "metadata": {
  "kernelspec": {
   "display_name": "Python 3",
   "language": "python",
   "name": "python3"
  },
  "language_info": {
   "codemirror_mode": {
    "name": "ipython",
    "version": 3
   },
   "file_extension": ".py",
   "mimetype": "text/x-python",
   "name": "python",
   "nbconvert_exporter": "python",
   "pygments_lexer": "ipython3",
   "version": "3.8.8"
  },
  "toc-autonumbering": false
 },
 "nbformat": 4,
 "nbformat_minor": 5
}
